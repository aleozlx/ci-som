{
 "cells": [
  {
   "cell_type": "markdown",
   "metadata": {
    "deletable": true,
    "editable": true
   },
   "source": [
    "# Basic uses of SOMPY library\n",
    "http://www.vahidmoosavi.com\n",
    "\n",
    "\n",
    "https://github.com/sevamoo/sompy\n"
   ]
  },
  {
   "cell_type": "code",
   "execution_count": 1,
   "metadata": {
    "collapsed": false,
    "deletable": true,
    "editable": true
   },
   "outputs": [],
   "source": [
    "import matplotlib.pylab as plt\n",
    "%matplotlib inline\n",
    "# import sompy as sompy\n",
    "import pandas as pd\n",
    "import numpy as np\n",
    "from time import time\n",
    "import sompy"
   ]
  },
  {
   "cell_type": "code",
   "execution_count": 2,
   "metadata": {
    "collapsed": false,
    "deletable": true,
    "editable": true
   },
   "outputs": [
    {
     "data": {
      "image/png": "[encoded data removed]",
      "text/plain": [
       "<matplotlib.figure.Figure at 0x7f116f61ba58>"
      ]
     },
     "metadata": {},
     "output_type": "display_data"
    }
   ],
   "source": [
    "### A toy example: two dimensional data, four clusters\n",
    "\n",
    "dlen = 200\n",
    "def toy_example_data(params):\n",
    "    a,b,c = params\n",
    "    tmp = np.random.rand(dlen,1) + a\n",
    "    return np.hstack((tmp, b*tmp + c*np.random.rand(dlen,1)))\n",
    "\n",
    "Data1 = np.concatenate(list(map(toy_example_data, [(0,1,0.42), (1,-1,-.62), (2,0.5,1), (3.5,-0.1,0.5)])))\n",
    "\n",
    "fig = plt.figure()\n",
    "plt.plot(Data1[:,0],Data1[:,1],'ob',alpha=0.2, markersize=4)\n",
    "fig.set_size_inches(7,7)"
   ]
  },
  {
   "cell_type": "code",
   "execution_count": 3,
   "metadata": {
    "collapsed": false,
    "deletable": true,
    "editable": true
   },
   "outputs": [
    {
     "name": "stderr",
     "output_type": "stream",
     "text": [
      " Training...\n",
      "/usr/local/lib/python3.5/dist-packages/sklearn/utils/deprecation.py:52: DeprecationWarning: Class RandomizedPCA is deprecated; RandomizedPCA was deprecated in 0.18 and will be removed in 0.20. Use PCA(svd_solver='randomized') instead. The new implementation DOES NOT store whiten ``components_``. Apply transform to get them.\n",
      "  warnings.warn(msg, category=DeprecationWarning)\n",
      " pca_linear_initialization took: 0.007000 seconds\n",
      " Rough training...\n",
      " radius_ini: 3.000000 , radius_final: 1.000000, trainlen: 15\n",
      "\n",
      " epoch: 1 ---> elapsed time:  0.116000, quantization error: 0.228911\n",
      "\n",
      " epoch: 2 ---> elapsed time:  0.121000, quantization error: 0.112293\n",
      "\n",
      " epoch: 3 ---> elapsed time:  0.132000, quantization error: 0.075053\n",
      "\n",
      " epoch: 4 ---> elapsed time:  0.119000, quantization error: 0.072372\n",
      "\n",
      " epoch: 5 ---> elapsed time:  0.135000, quantization error: 0.066233\n",
      "\n",
      " epoch: 6 ---> elapsed time:  0.132000, quantization error: 0.062308\n",
      "\n",
      " epoch: 7 ---> elapsed time:  0.117000, quantization error: 0.058015\n",
      "\n",
      " epoch: 8 ---> elapsed time:  0.124000, quantization error: 0.053836\n",
      "\n",
      " epoch: 9 ---> elapsed time:  0.132000, quantization error: 0.050482\n",
      "\n",
      " epoch: 10 ---> elapsed time:  0.129000, quantization error: 0.047315\n",
      "\n",
      " epoch: 11 ---> elapsed time:  0.118000, quantization error: 0.043807\n",
      "\n",
      " epoch: 12 ---> elapsed time:  0.128000, quantization error: 0.040442\n",
      "\n",
      " epoch: 13 ---> elapsed time:  0.125000, quantization error: 0.037291\n",
      "\n",
      " epoch: 14 ---> elapsed time:  0.134000, quantization error: 0.034281\n",
      "\n",
      " epoch: 15 ---> elapsed time:  0.137000, quantization error: 0.031595\n",
      "\n",
      " Finetune training...\n",
      " radius_ini: 1.000000 , radius_final: 1.000000, trainlen: 20\n",
      "\n",
      " epoch: 1 ---> elapsed time:  0.122000, quantization error: 0.029538\n",
      "\n",
      " epoch: 2 ---> elapsed time:  0.134000, quantization error: 0.029064\n",
      "\n",
      " epoch: 3 ---> elapsed time:  0.129000, quantization error: 0.029069\n",
      "\n",
      " epoch: 4 ---> elapsed time:  0.116000, quantization error: 0.028730\n",
      "\n",
      " epoch: 5 ---> elapsed time:  0.129000, quantization error: 0.028613\n",
      "\n",
      " epoch: 6 ---> elapsed time:  0.124000, quantization error: 0.028559\n",
      "\n",
      " epoch: 7 ---> elapsed time:  0.124000, quantization error: 0.028581\n",
      "\n",
      " epoch: 8 ---> elapsed time:  0.120000, quantization error: 0.028358\n",
      "\n",
      " epoch: 9 ---> elapsed time:  0.124000, quantization error: 0.028207\n",
      "\n",
      " epoch: 10 ---> elapsed time:  0.107000, quantization error: 0.028150\n",
      "\n",
      " epoch: 11 ---> elapsed time:  0.115000, quantization error: 0.028219\n",
      "\n",
      " epoch: 12 ---> elapsed time:  0.118000, quantization error: 0.028253\n",
      "\n",
      " epoch: 13 ---> elapsed time:  0.122000, quantization error: 0.028252\n",
      "\n",
      " epoch: 14 ---> elapsed time:  0.108000, quantization error: 0.028133\n",
      "\n",
      " epoch: 15 ---> elapsed time:  0.105000, quantization error: 0.027988\n",
      "\n",
      " epoch: 16 ---> elapsed time:  0.112000, quantization error: 0.027890\n",
      "\n",
      " epoch: 17 ---> elapsed time:  0.119000, quantization error: 0.027880\n",
      "\n",
      " epoch: 18 ---> elapsed time:  0.120000, quantization error: 0.027857\n",
      "\n",
      " epoch: 19 ---> elapsed time:  0.105000, quantization error: 0.027859\n",
      "\n",
      " epoch: 20 ---> elapsed time:  0.116000, quantization error: 0.027784\n",
      "\n",
      " Final quantization error: 0.027784\n",
      " train took: 4.410000 seconds\n"
     ]
    }
   ],
   "source": [
    "\n",
    "mapsize = [20,20]\n",
    "som = sompy.SOMFactory.build(Data1, mapsize, mask=None, mapshape='planar', lattice='rect', normalization='var', initialization='pca', neighborhood='gaussian', training='batch', name='sompy')  # this will use the default parameters, but i can change the initialization and neighborhood methods\n",
    "som.train(n_job=1, verbose='info')  # verbose='debug' will print more, and verbose=None wont print anything\n"
   ]
  },
  {
   "cell_type": "code",
   "execution_count": 4,
   "metadata": {
    "collapsed": false,
    "deletable": true,
    "editable": true
   },
   "outputs": [
    {
     "data": {
      "image/png": "[encoded data removed]",
      "text/plain": [
       "<matplotlib.figure.Figure at 0x7f115eb072b0>"
      ]
     },
     "metadata": {},
     "output_type": "display_data"
    }
   ],
   "source": [
    "v = sompy.mapview.View2DPacked(50, 50, 'test',text_size=8)  \n",
    "# could be done in a one-liner: sompy.mapview.View2DPacked(300, 300, 'test').show(som)\n",
    "v.show(som, what='codebook', which_dim=[0,1], col_sz=6) #which_dim='all' default\n",
    "# v.save('2d_packed_test')\n",
    "\n",
    "# som.component_names = ['1','2']\n",
    "# v = sompy.mapview.View2DPacked(50, 50, 'test',text_size=8)  \n",
    "# v.show(som, what='codebook', which_dim='all', cmap='jet', col_sz=6) #which_dim='all' default\n",
    "\n",
    "# sompy.mapview.View2DPacked(50, 50, 'test', text_size=8).show(som, what='codebook', which_dim=[0,1], col_sz=6)\n"
   ]
  },
  {
   "cell_type": "code",
   "execution_count": null,
   "metadata": {
    "collapsed": false,
    "deletable": true,
    "editable": true
   },
   "outputs": [],
   "source": [
    "# c = sompy.mapview.View2DPacked()\n",
    "v = sompy.mapview.View2DPacked(2, 2, 'test',text_size=8)  \n",
    "#first you can do clustering. Currently only K-means on top of the trained som\n",
    "cl = som.cluster(n_clusters=4)\n",
    "# print cl\n",
    "getattr(som, 'cluster_labels')"
   ]
  },
  {
   "cell_type": "code",
   "execution_count": null,
   "metadata": {
    "collapsed": false,
    "deletable": true,
    "editable": true
   },
   "outputs": [],
   "source": [
    "v.show(som, what='cluster')"
   ]
  },
  {
   "cell_type": "code",
   "execution_count": null,
   "metadata": {
    "collapsed": false,
    "deletable": true,
    "editable": true
   },
   "outputs": [],
   "source": [
    "h = sompy.hitmap.HitMapView(10, 10, 'hitmap', text_size=8, show_text=True)\n",
    "h.show(som)"
   ]
  },
  {
   "cell_type": "code",
   "execution_count": null,
   "metadata": {
    "collapsed": false,
    "deletable": true,
    "editable": true
   },
   "outputs": [],
   "source": [
    "u = sompy.umatrix.UMatrixView(50, 50, 'umatrix', show_axis=True, text_size=8, show_text=True)\n",
    "\n",
    "#This is the Umat value\n",
    "UMAT  = u.build_u_matrix(som, distance=1, row_normalized=False)\n",
    "\n",
    "#Here you have Umatrix plus its render\n",
    "UMAT = u.show(som, distance2=1, row_normalized=False, show_data=True, contooor=True, blob=False)\n"
   ]
  },
  {
   "cell_type": "code",
   "execution_count": null,
   "metadata": {
    "collapsed": false,
    "deletable": true,
    "editable": true
   },
   "outputs": [],
   "source": [
    "dlen = 700\n",
    "tetha = np.random.uniform(low=0,high=2*np.pi,size=dlen)[:,np.newaxis]\n",
    "X1 = 3*np.cos(tetha)+ .22*np.random.rand(dlen,1)\n",
    "Y1 = 3*np.sin(tetha)+ .22*np.random.rand(dlen,1)\n",
    "Data1 = np.concatenate((X1,Y1),axis=1)\n",
    "\n",
    "X2 = 1*np.cos(tetha)+ .22*np.random.rand(dlen,1)\n",
    "Y2 = 1*np.sin(tetha)+ .22*np.random.rand(dlen,1)\n",
    "Data2 = np.concatenate((X2,Y2),axis=1)\n",
    "\n",
    "X3 = 5*np.cos(tetha)+ .22*np.random.rand(dlen,1)\n",
    "Y3 = 5*np.sin(tetha)+ .22*np.random.rand(dlen,1)\n",
    "Data3 = np.concatenate((X3,Y3),axis=1)\n",
    "\n",
    "X4 = 8*np.cos(tetha)+ .22*np.random.rand(dlen,1)\n",
    "Y4 = 8*np.sin(tetha)+ .22*np.random.rand(dlen,1)\n",
    "Data4 = np.concatenate((X4,Y4),axis=1)\n",
    "\n",
    "\n",
    "\n",
    "Data2 = np.concatenate((Data1,Data2,Data3,Data4),axis=0)\n",
    "\n",
    "fig = plt.figure()\n",
    "plt.plot(Data2[:,0],Data2[:,1],'ob',alpha=0.2, markersize=4)\n",
    "fig.set_size_inches(7,7)\n",
    "# plt.plot(np.cos(tetha))"
   ]
  },
  {
   "cell_type": "code",
   "execution_count": null,
   "metadata": {
    "collapsed": false,
    "deletable": true,
    "editable": true
   },
   "outputs": [],
   "source": [
    "\n",
    "mapsize = [30,30]\n",
    "som = sompy.SOMFactory.build(Data2, mapsize, mask=None, mapshape='planar', lattice='rect', normalization='var', initialization='pca', neighborhood='gaussian', training='batch', name='sompy')  # this will use the default parameters, but i can change the initialization and neighborhood methods\n",
    "som.train(n_job=1, verbose='info')  # verbose='debug' will print more, and verbose=None wont print anything\n"
   ]
  },
  {
   "cell_type": "code",
   "execution_count": null,
   "metadata": {
    "collapsed": false,
    "deletable": true,
    "editable": true
   },
   "outputs": [],
   "source": [
    "v = sompy.mapview.View2DPacked(50, 50, 'test',text_size=8)  \n",
    "# could be done in a one-liner: sompy.mapview.View2DPacked(300, 300, 'test').show(som)\n",
    "v.show(som, what='codebook', which_dim=[0,1], cmap=None, col_sz=6) #which_dim='all' default\n",
    "# v.save('2d_packed_test')"
   ]
  },
  {
   "cell_type": "code",
   "execution_count": null,
   "metadata": {
    "collapsed": false,
    "deletable": true,
    "editable": true
   },
   "outputs": [],
   "source": [
    "#In this case, K-means simply fails as expected\n",
    "\n",
    "v = sompy.mapview.View2DPacked(2, 2, 'test',text_size=8)  \n",
    "#first you can do clustering. Currently only K-means on top of the trained som\n",
    "cl = som.cluster(n_clusters=4)\n",
    "v.show(som, what='cluster')\n",
    "# v.save('kmeans_test')"
   ]
  },
  {
   "cell_type": "code",
   "execution_count": null,
   "metadata": {
    "collapsed": false,
    "deletable": true,
    "editable": true
   },
   "outputs": [],
   "source": [
    "#But Umatrix finds the clusters easily\n",
    "\n",
    "u = sompy.umatrix.UMatrixView(50, 50, 'umatrix', show_axis=True, text_size=8, show_text=True)\n",
    "\n",
    "#This is the Umat value\n",
    "UMAT  = u.build_u_matrix(som, distance=1, row_normalized=False)\n",
    "\n",
    "UMAT = u.show(som, distance2=1, row_normalized=False, show_data=True, contooor=False, blob=False)\n"
   ]
  },
  {
   "cell_type": "code",
   "execution_count": null,
   "metadata": {
    "collapsed": true,
    "deletable": true,
    "editable": true
   },
   "outputs": [],
   "source": []
  }
 ],
 "metadata": {
  "kernelspec": {
   "display_name": "Python 3",
   "language": "python",
   "name": "python3"
  },
  "language_info": {
   "codemirror_mode": {
    "name": "ipython",
    "version": 3
   },
   "file_extension": ".py",
   "mimetype": "text/x-python",
   "name": "python",
   "nbconvert_exporter": "python",
   "pygments_lexer": "ipython3",
   "version": "3.5.2"
  }
 },
 "nbformat": 4,
 "nbformat_minor": 0
}
